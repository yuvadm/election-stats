{
 "cells": [
  {
   "cell_type": "code",
   "execution_count": 351,
   "id": "israeli-perth",
   "metadata": {},
   "outputs": [],
   "source": [
    "import pandas as pd\n",
    "import numpy as np"
   ]
  },
  {
   "cell_type": "code",
   "execution_count": 199,
   "id": "viral-evans",
   "metadata": {},
   "outputs": [],
   "source": [
    "pd.options.plotting.backend = \"matplotlib\""
   ]
  },
  {
   "cell_type": "code",
   "execution_count": 137,
   "id": "brave-marsh",
   "metadata": {},
   "outputs": [],
   "source": [
    "vals = range(21, 25)\n",
    "indexes = [0,1,1,1]  # first file has no סמל ועדה column\n",
    "dfs = [pd.read_csv(f\"{e}.csv\", index_col=i, encoding=\"iso-8859-8\") for e, i in zip(vals, indexes)]\n",
    "\n",
    "# cleanup NaN columns\n",
    "del dfs[2][\"Unnamed: 37\"]\n",
    "del dfs[3][\"Unnamed: 46\"]"
   ]
  },
  {
   "cell_type": "code",
   "execution_count": 138,
   "id": "ordered-executive",
   "metadata": {},
   "outputs": [
    {
     "name": "stdout",
     "output_type": "stream",
     "text": [
      "Index(['סמל ועדה', 'סמל ישוב', 'בזב', 'מצביעים', 'פסולים', 'כשרים', 'אמת', 'ב',\n",
      "       'ג', 'ודעם', 'ז', 'זץ', 'ט', 'י', 'יז', 'ינ', 'יף', 'יק', 'יר', 'כ',\n",
      "       'כך', 'כן', 'ל', 'מחל', 'מרצ', 'נ', 'ני', 'נר', 'עם', 'פה', 'ףז', 'צי',\n",
      "       'צכ', 'צף', 'ץ', 'ק', 'קי', 'קך', 'קץ', 'ר', 'רנ', 'רף', 'רק', 'שס',\n",
      "       'ת'],\n",
      "      dtype='object')\n"
     ]
    }
   ],
   "source": [
    "print(dfs[3].keys())"
   ]
  },
  {
   "cell_type": "code",
   "execution_count": 139,
   "id": "foreign-segment",
   "metadata": {},
   "outputs": [],
   "source": [
    "static_keys = [\"סמל ועדה\", \"שם ישוב\", \"בזב\", \"מצביעים\", \"פסולים\", \"כשרים\"]"
   ]
  },
  {
   "cell_type": "code",
   "execution_count": 296,
   "id": "ahead-monday",
   "metadata": {},
   "outputs": [],
   "source": [
    "df2 = dfs[2].sort_values(by=['בזב'], ascending=False)[:100]\n",
    "df3 = dfs[3].sort_values(by=['בזב'], ascending=False)[:100]"
   ]
  },
  {
   "cell_type": "code",
   "execution_count": 358,
   "id": "competent-contemporary",
   "metadata": {},
   "outputs": [],
   "source": [
    "def scatter_party(p):\n",
    "    rate3 = df3[\"מצביעים\"] / df3[\"בזב\"]\n",
    "    rate2 = df2[\"מצביעים\"] / df2[\"בזב\"]\n",
    "    p3 = df3[p] / rate3\n",
    "    p2 = df2[p] / rate2\n",
    "    odf = pd.DataFrame({\n",
    "        \"votes\": rate3 / rate2,\n",
    "        \"party\": df2[p] / df2[\"מצביעים\"],\n",
    "        \"name\": df3[p]\n",
    "    })\n",
    "    odf = odf[odf[\"party\"] > 0.05]\n",
    "    g = odf.plot.scatter(y=\"votes\", x=\"party\")\n",
    "    m, c = fit_line(x=odf[\"party\"], y=odf[\"votes\"])\n",
    "    m, b = np.polyfit(odf[\"party\"], odf[\"votes\"], 1)\n",
    "    g.set_xlim(0, 1)\n",
    "    g.set_ylim(0.5, 1)\n",
    "    x = odf[\"party\"].to_numpy()\n",
    "    g.plot(x, m*x+b, color=\"red\")\n",
    "    return g"
   ]
  },
  {
   "cell_type": "code",
   "execution_count": 370,
   "id": "warming-afghanistan",
   "metadata": {},
   "outputs": [
    {
     "data": {
      "text/html": [
       "<div>\n",
       "<style scoped>\n",
       "    .dataframe tbody tr th:only-of-type {\n",
       "        vertical-align: middle;\n",
       "    }\n",
       "\n",
       "    .dataframe tbody tr th {\n",
       "        vertical-align: top;\n",
       "    }\n",
       "\n",
       "    .dataframe thead th {\n",
       "        text-align: right;\n",
       "    }\n",
       "</style>\n",
       "<table border=\"1\" class=\"dataframe\">\n",
       "  <thead>\n",
       "    <tr style=\"text-align: right;\">\n",
       "      <th></th>\n",
       "      <th>מחל</th>\n",
       "      <th>שס</th>\n",
       "      <th>ודעם</th>\n",
       "      <th>פה</th>\n",
       "      <th>ל</th>\n",
       "      <th>ג</th>\n",
       "      <th>אמת</th>\n",
       "    </tr>\n",
       "    <tr>\n",
       "      <th>שם ישוב</th>\n",
       "      <th></th>\n",
       "      <th></th>\n",
       "      <th></th>\n",
       "      <th></th>\n",
       "      <th></th>\n",
       "      <th></th>\n",
       "      <th></th>\n",
       "    </tr>\n",
       "  </thead>\n",
       "  <tbody>\n",
       "    <tr>\n",
       "      <th>אום אלפחם</th>\n",
       "      <td>2.687500</td>\n",
       "      <td>1.083333</td>\n",
       "      <td>0.436388</td>\n",
       "      <td>1.200000</td>\n",
       "      <td>0.750000</td>\n",
       "      <td>1.000000</td>\n",
       "      <td>0.227273</td>\n",
       "    </tr>\n",
       "    <tr>\n",
       "      <th>אופקים</th>\n",
       "      <td>0.761945</td>\n",
       "      <td>0.932208</td>\n",
       "      <td>0.333333</td>\n",
       "      <td>0.488142</td>\n",
       "      <td>0.743292</td>\n",
       "      <td>1.028207</td>\n",
       "      <td>0.654321</td>\n",
       "    </tr>\n",
       "    <tr>\n",
       "      <th>אור יהודה</th>\n",
       "      <td>0.829278</td>\n",
       "      <td>0.856481</td>\n",
       "      <td>0.562500</td>\n",
       "      <td>0.422553</td>\n",
       "      <td>0.826331</td>\n",
       "      <td>0.602041</td>\n",
       "      <td>0.824373</td>\n",
       "    </tr>\n",
       "    <tr>\n",
       "      <th>אור עקיבא</th>\n",
       "      <td>0.803556</td>\n",
       "      <td>0.838681</td>\n",
       "      <td>0.083333</td>\n",
       "      <td>0.584626</td>\n",
       "      <td>0.766290</td>\n",
       "      <td>0.678832</td>\n",
       "      <td>0.994872</td>\n",
       "    </tr>\n",
       "    <tr>\n",
       "      <th>אילת</th>\n",
       "      <td>0.788089</td>\n",
       "      <td>0.764416</td>\n",
       "      <td>0.379747</td>\n",
       "      <td>0.460652</td>\n",
       "      <td>0.971963</td>\n",
       "      <td>0.524324</td>\n",
       "      <td>0.984724</td>\n",
       "    </tr>\n",
       "    <tr>\n",
       "      <th>...</th>\n",
       "      <td>...</td>\n",
       "      <td>...</td>\n",
       "      <td>...</td>\n",
       "      <td>...</td>\n",
       "      <td>...</td>\n",
       "      <td>...</td>\n",
       "      <td>...</td>\n",
       "    </tr>\n",
       "    <tr>\n",
       "      <th>רעננה</th>\n",
       "      <td>0.734019</td>\n",
       "      <td>0.875202</td>\n",
       "      <td>0.369748</td>\n",
       "      <td>0.519085</td>\n",
       "      <td>1.070635</td>\n",
       "      <td>0.661247</td>\n",
       "      <td>1.062368</td>\n",
       "    </tr>\n",
       "    <tr>\n",
       "      <th>שדרות</th>\n",
       "      <td>0.761988</td>\n",
       "      <td>0.922330</td>\n",
       "      <td>0.516129</td>\n",
       "      <td>0.442543</td>\n",
       "      <td>0.695527</td>\n",
       "      <td>0.441441</td>\n",
       "      <td>0.438687</td>\n",
       "    </tr>\n",
       "    <tr>\n",
       "      <th>שוהם</th>\n",
       "      <td>0.748437</td>\n",
       "      <td>0.893004</td>\n",
       "      <td>0.666667</td>\n",
       "      <td>0.518784</td>\n",
       "      <td>1.081560</td>\n",
       "      <td>0.566667</td>\n",
       "      <td>1.092841</td>\n",
       "    </tr>\n",
       "    <tr>\n",
       "      <th>שפרעם</th>\n",
       "      <td>2.181373</td>\n",
       "      <td>1.058824</td>\n",
       "      <td>0.450079</td>\n",
       "      <td>0.379784</td>\n",
       "      <td>0.957500</td>\n",
       "      <td>0.500000</td>\n",
       "      <td>0.991903</td>\n",
       "    </tr>\n",
       "    <tr>\n",
       "      <th>תל אביב  יפו</th>\n",
       "      <td>0.763720</td>\n",
       "      <td>0.851865</td>\n",
       "      <td>0.443705</td>\n",
       "      <td>0.450189</td>\n",
       "      <td>1.117818</td>\n",
       "      <td>0.734832</td>\n",
       "      <td>0.999278</td>\n",
       "    </tr>\n",
       "  </tbody>\n",
       "</table>\n",
       "<p>101 rows × 7 columns</p>\n",
       "</div>"
      ],
      "text/plain": [
       "                   מחל        שס      ודעם        פה         ל         ג  \\\n",
       "שם ישוב                                                                    \n",
       "אום אלפחם     2.687500  1.083333  0.436388  1.200000  0.750000  1.000000   \n",
       "אופקים        0.761945  0.932208  0.333333  0.488142  0.743292  1.028207   \n",
       "אור יהודה     0.829278  0.856481  0.562500  0.422553  0.826331  0.602041   \n",
       "אור עקיבא     0.803556  0.838681  0.083333  0.584626  0.766290  0.678832   \n",
       "אילת          0.788089  0.764416  0.379747  0.460652  0.971963  0.524324   \n",
       "...                ...       ...       ...       ...       ...       ...   \n",
       "רעננה         0.734019  0.875202  0.369748  0.519085  1.070635  0.661247   \n",
       "שדרות         0.761988  0.922330  0.516129  0.442543  0.695527  0.441441   \n",
       "שוהם          0.748437  0.893004  0.666667  0.518784  1.081560  0.566667   \n",
       "שפרעם         2.181373  1.058824  0.450079  0.379784  0.957500  0.500000   \n",
       "תל אביב  יפו  0.763720  0.851865  0.443705  0.450189  1.117818  0.734832   \n",
       "\n",
       "                   אמת  \n",
       "שם ישוב                 \n",
       "אום אלפחם     0.227273  \n",
       "אופקים        0.654321  \n",
       "אור יהודה     0.824373  \n",
       "אור עקיבא     0.994872  \n",
       "אילת          0.984724  \n",
       "...                ...  \n",
       "רעננה         1.062368  \n",
       "שדרות         0.438687  \n",
       "שוהם          1.092841  \n",
       "שפרעם         0.991903  \n",
       "תל אביב  יפו  0.999278  \n",
       "\n",
       "[101 rows x 7 columns]"
      ]
     },
     "execution_count": 370,
     "metadata": {},
     "output_type": "execute_result"
    }
   ],
   "source": [
    "parties = [\"מחל\", \"שס\", \"ודעם\", \"פה\", \"ל\", \"ג\", \"אמת\"]\n",
    "\n",
    "rate3 = df3[\"מצביעים\"] / df3[\"בזב\"]\n",
    "rate2 = df2[\"מצביעים\"] / df2[\"בזב\"]\n",
    "\n",
    "df3[parties] / df2[parties]"
   ]
  },
  {
   "cell_type": "code",
   "execution_count": 359,
   "id": "romantic-position",
   "metadata": {},
   "outputs": [
    {
     "data": {
      "text/plain": [
       "<AxesSubplot:xlabel='party', ylabel='votes'>"
      ]
     },
     "execution_count": 359,
     "metadata": {},
     "output_type": "execute_result"
    },
    {
     "data": {
      "image/png": "[encoded data removed]",
      "text/plain": [
       "<Figure size 432x288 with 1 Axes>"
      ]
     },
     "metadata": {
      "needs_background": "light"
     },
     "output_type": "display_data"
    }
   ],
   "source": [
    "scatter_party(\"מחל\")"
   ]
  },
  {
   "cell_type": "code",
   "execution_count": 360,
   "id": "comparable-width",
   "metadata": {},
   "outputs": [
    {
     "data": {
      "text/plain": [
       "<AxesSubplot:xlabel='party', ylabel='votes'>"
      ]
     },
     "execution_count": 360,
     "metadata": {},
     "output_type": "execute_result"
    },
    {
     "data": {
      "image/png": "[encoded data removed]",
      "text/plain": [
       "<Figure size 432x288 with 1 Axes>"
      ]
     },
     "metadata": {
      "needs_background": "light"
     },
     "output_type": "display_data"
    }
   ],
   "source": [
    "scatter_party(\"שס\")"
   ]
  },
  {
   "cell_type": "code",
   "execution_count": 362,
   "id": "million-melbourne",
   "metadata": {},
   "outputs": [
    {
     "data": {
      "text/plain": [
       "<AxesSubplot:xlabel='party', ylabel='votes'>"
      ]
     },
     "execution_count": 362,
     "metadata": {},
     "output_type": "execute_result"
    },
    {
     "data": {
      "image/png": "[encoded data removed]",
      "text/plain": [
       "<Figure size 432x288 with 1 Axes>"
      ]
     },
     "metadata": {
      "needs_background": "light"
     },
     "output_type": "display_data"
    }
   ],
   "source": [
    "scatter_party(\"ודעם\")"
   ]
  },
  {
   "cell_type": "code",
   "execution_count": 363,
   "id": "precise-baker",
   "metadata": {},
   "outputs": [
    {
     "data": {
      "text/plain": [
       "<AxesSubplot:xlabel='party', ylabel='votes'>"
      ]
     },
     "execution_count": 363,
     "metadata": {},
     "output_type": "execute_result"
    },
    {
     "data": {
      "image/png": "[encoded data removed]",
      "text/plain": [
       "<Figure size 432x288 with 1 Axes>"
      ]
     },
     "metadata": {
      "needs_background": "light"
     },
     "output_type": "display_data"
    }
   ],
   "source": [
    "scatter_party(\"פה\")"
   ]
  },
  {
   "cell_type": "code",
   "execution_count": 364,
   "id": "danish-vanilla",
   "metadata": {},
   "outputs": [
    {
     "data": {
      "text/plain": [
       "<AxesSubplot:xlabel='party', ylabel='votes'>"
      ]
     },
     "execution_count": 364,
     "metadata": {},
     "output_type": "execute_result"
    },
    {
     "data": {
      "image/png": "[encoded data removed]",
      "text/plain": [
       "<Figure size 432x288 with 1 Axes>"
      ]
     },
     "metadata": {
      "needs_background": "light"
     },
     "output_type": "display_data"
    }
   ],
   "source": [
    "scatter_party(\"ל\")"
   ]
  },
  {
   "cell_type": "code",
   "execution_count": 365,
   "id": "ruled-diesel",
   "metadata": {},
   "outputs": [
    {
     "data": {
      "text/plain": [
       "<AxesSubplot:xlabel='party', ylabel='votes'>"
      ]
     },
     "execution_count": 365,
     "metadata": {},
     "output_type": "execute_result"
    },
    {
     "data": {
      "image/png": "[encoded data removed]",
      "text/plain": [
       "<Figure size 432x288 with 1 Axes>"
      ]
     },
     "metadata": {
      "needs_background": "light"
     },
     "output_type": "display_data"
    }
   ],
   "source": [
    "scatter_party(\"ג\")"
   ]
  },
  {
   "cell_type": "code",
   "execution_count": 366,
   "id": "acknowledged-surface",
   "metadata": {},
   "outputs": [
    {
     "data": {
      "text/plain": [
       "<AxesSubplot:xlabel='party', ylabel='votes'>"
      ]
     },
     "execution_count": 366,
     "metadata": {},
     "output_type": "execute_result"
    },
    {
     "data": {
      "image/png": "[encoded data removed]",
      "text/plain": [
       "<Figure size 432x288 with 1 Axes>"
      ]
     },
     "metadata": {
      "needs_background": "light"
     },
     "output_type": "display_data"
    }
   ],
   "source": [
    "scatter_party(\"אמת\")"
   ]
  }
 ],
 "metadata": {
  "kernelspec": {
   "display_name": "Python 3",
   "language": "python",
   "name": "python3"
  },
  "language_info": {
   "codemirror_mode": {
    "name": "ipython",
    "version": 3
   },
   "file_extension": ".py",
   "mimetype": "text/x-python",
   "name": "python",
   "nbconvert_exporter": "python",
   "pygments_lexer": "ipython3",
   "version": "3.9.2"
  }
 },
 "nbformat": 4,
 "nbformat_minor": 5
}
