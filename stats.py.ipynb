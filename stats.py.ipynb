{
 "cells": [
  {
   "cell_type": "code",
   "execution_count": 1,
   "id": "israeli-perth",
   "metadata": {},
   "outputs": [],
   "source": [
    "import pandas as pd"
   ]
  },
  {
   "cell_type": "code",
   "execution_count": 199,
   "id": "crazy-guard",
   "metadata": {},
   "outputs": [],
   "source": [
    "pd.options.plotting.backend = \"matplotlib\""
   ]
  },
  {
   "cell_type": "code",
   "execution_count": 137,
   "id": "brave-marsh",
   "metadata": {},
   "outputs": [],
   "source": [
    "vals = range(21, 25)\n",
    "indexes = [0,1,1,1]  # first file has no סמל ועדה column\n",
    "dfs = [pd.read_csv(f\"{e}.csv\", index_col=i, encoding=\"iso-8859-8\") for e, i in zip(vals, indexes)]\n",
    "\n",
    "# cleanup NaN columns\n",
    "del dfs[2][\"Unnamed: 37\"]\n",
    "del dfs[3][\"Unnamed: 46\"]"
   ]
  },
  {
   "cell_type": "code",
   "execution_count": 138,
   "id": "ordered-executive",
   "metadata": {},
   "outputs": [
    {
     "name": "stdout",
     "output_type": "stream",
     "text": [
      "Index(['סמל ועדה', 'סמל ישוב', 'בזב', 'מצביעים', 'פסולים', 'כשרים', 'אמת', 'ב',\n",
      "       'ג', 'ודעם', 'ז', 'זץ', 'ט', 'י', 'יז', 'ינ', 'יף', 'יק', 'יר', 'כ',\n",
      "       'כך', 'כן', 'ל', 'מחל', 'מרצ', 'נ', 'ני', 'נר', 'עם', 'פה', 'ףז', 'צי',\n",
      "       'צכ', 'צף', 'ץ', 'ק', 'קי', 'קך', 'קץ', 'ר', 'רנ', 'רף', 'רק', 'שס',\n",
      "       'ת'],\n",
      "      dtype='object')\n"
     ]
    }
   ],
   "source": [
    "print(dfs[3].keys())"
   ]
  },
  {
   "cell_type": "code",
   "execution_count": 139,
   "id": "foreign-segment",
   "metadata": {},
   "outputs": [],
   "source": [
    "static_keys = [\"סמל ועדה\", \"שם ישוב\", \"בזב\", \"מצביעים\", \"פסולים\", \"כשרים\"]"
   ]
  },
  {
   "cell_type": "code",
   "execution_count": null,
   "id": "sporting-kentucky",
   "metadata": {},
   "outputs": [],
   "source": []
  },
  {
   "cell_type": "code",
   "execution_count": 141,
   "id": "tested-memory",
   "metadata": {},
   "outputs": [],
   "source": [
    "df2 = dfs[2].sort_values(by=['בזב'], ascending=False)[:50]\n",
    "df3 = dfs[3].sort_values(by=['בזב'], ascending=False)[:50]"
   ]
  },
  {
   "cell_type": "code",
   "execution_count": 278,
   "id": "miniature-serve",
   "metadata": {},
   "outputs": [],
   "source": [
    "def scatter_party(p):\n",
    "    rate3 = df3[\"מצביעים\"] / df3[\"בזב\"]\n",
    "    rate2 = df2[\"מצביעים\"] / df2[\"בזב\"]\n",
    "    p3 = df3[p] / rate3\n",
    "    p2 = df2[p] / rate2\n",
    "    odf = pd.DataFrame({\n",
    "        \"votes\": rate3 / rate2,\n",
    "        \"party\": df2[p] / df2[\"מצביעים\"],\n",
    "        \"name\": df3[p]\n",
    "    })\n",
    "    g = odf[odf[\"party\"] < 1].plot.scatter(y=\"votes\", x=\"party\")\n",
    "    g.set_xlim(0, 1)\n",
    "    g.set_ylim(0, 1)\n",
    "    return g"
   ]
  },
  {
   "cell_type": "code",
   "execution_count": 279,
   "id": "continental-alpha",
   "metadata": {},
   "outputs": [
    {
     "data": {
      "text/plain": [
       "<AxesSubplot:xlabel='party', ylabel='votes'>"
      ]
     },
     "execution_count": 279,
     "metadata": {},
     "output_type": "execute_result"
    },
    {
     "data": {
      "image/png": "[encoded data removed]",
      "text/plain": [
       "<Figure size 432x288 with 1 Axes>"
      ]
     },
     "metadata": {
      "needs_background": "light"
     },
     "output_type": "display_data"
    }
   ],
   "source": [
    "scatter_party(\"מחל\")"
   ]
  },
  {
   "cell_type": "code",
   "execution_count": 280,
   "id": "divine-memorial",
   "metadata": {},
   "outputs": [
    {
     "data": {
      "text/plain": [
       "<AxesSubplot:xlabel='party', ylabel='votes'>"
      ]
     },
     "execution_count": 280,
     "metadata": {},
     "output_type": "execute_result"
    },
    {
     "data": {
      "image/png": "[encoded data removed]",
      "text/plain": [
       "<Figure size 432x288 with 1 Axes>"
      ]
     },
     "metadata": {
      "needs_background": "light"
     },
     "output_type": "display_data"
    }
   ],
   "source": [
    "scatter_party(\"שס\")"
   ]
  },
  {
   "cell_type": "code",
   "execution_count": 281,
   "id": "universal-headset",
   "metadata": {},
   "outputs": [
    {
     "data": {
      "text/plain": [
       "<AxesSubplot:xlabel='party', ylabel='votes'>"
      ]
     },
     "execution_count": 281,
     "metadata": {},
     "output_type": "execute_result"
    },
    {
     "data": {
      "image/png": "[encoded data removed]",
      "text/plain": [
       "<Figure size 432x288 with 1 Axes>"
      ]
     },
     "metadata": {
      "needs_background": "light"
     },
     "output_type": "display_data"
    }
   ],
   "source": [
    "scatter_party(\"ודעם\")"
   ]
  },
  {
   "cell_type": "code",
   "execution_count": null,
   "id": "documentary-radar",
   "metadata": {},
   "outputs": [],
   "source": []
  },
  {
   "cell_type": "code",
   "execution_count": null,
   "id": "combined-affiliation",
   "metadata": {},
   "outputs": [],
   "source": []
  }
 ],
 "metadata": {
  "kernelspec": {
   "display_name": "Python 3",
   "language": "python",
   "name": "python3"
  },
  "language_info": {
   "codemirror_mode": {
    "name": "ipython",
    "version": 3
   },
   "file_extension": ".py",
   "mimetype": "text/x-python",
   "name": "python",
   "nbconvert_exporter": "python",
   "pygments_lexer": "ipython3",
   "version": "3.9.2"
  }
 },
 "nbformat": 4,
 "nbformat_minor": 5
}
